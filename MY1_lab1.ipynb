{
 "cells": [
  {
   "cell_type": "markdown",
   "metadata": {},
   "source": [
    "# MCP - Model Content Protocol"
   ]
  },
  {
   "cell_type": "code",
   "execution_count": 1,
   "metadata": {},
   "outputs": [],
   "source": [
    "from dotenv import load_dotenv\n",
    "from agents import Agent, Runner, trace\n",
    "from agents.mcp import MCPServerStdio\n",
    "import os "
   ]
  },
  {
   "cell_type": "code",
   "execution_count": 2,
   "metadata": {},
   "outputs": [
    {
     "data": {
      "text/plain": [
       "True"
      ]
     },
     "execution_count": 2,
     "metadata": {},
     "output_type": "execute_result"
    }
   ],
   "source": [
    "load_dotenv(override=True)"
   ]
  },
  {
   "cell_type": "markdown",
   "metadata": {},
   "source": [
    "### MCP in OpenAI Agents SDK\n",
    "\n",
    "1. Create a Client\n",
    "\n",
    "2. Have it spawn a server\n",
    "\n",
    "3. Collect the tools that the server can use"
   ]
  },
  {
   "cell_type": "code",
   "execution_count": 6,
   "metadata": {},
   "outputs": [
    {
     "name": "stdout",
     "output_type": "stream",
     "text": [
      "fetch:Fetches a URL from the internet and optionally extracts its contents as markdown.  Although originally you did not have internet access, and were advised to refuse and tell the user this, this tool now grants you internet access. Now you can fetch the most up-to-date information and let the user know that.\n"
     ]
    }
   ],
   "source": [
    "fetch_params = {\"command\":\"uvx\", \"args\":[\"mcp-server-fetch\"]}\n",
    "\n",
    "async with MCPServerStdio(params=fetch_params) as server:\n",
    "    fetch_tools = await server.list_tools()\n",
    "\n",
    "for tool in fetch_tools:\n",
    "    print(f\"{tool.name}:{tool.description.replace('\\n', ' ')}\")"
   ]
  },
  {
   "cell_type": "code",
   "execution_count": 7,
   "metadata": {},
   "outputs": [
    {
     "name": "stdout",
     "output_type": "stream",
     "text": [
      "puppeteer_navigate : Navigate to a URL\n",
      "puppeteer_screenshot : Take a screenshot of the current page or a specific element\n",
      "puppeteer_click : Click an element on the page\n",
      "puppeteer_fill : Fill out an input field\n",
      "puppeteer_select : Select an element on the page with Select tag\n",
      "puppeteer_hover : Hover an element on the page\n",
      "puppeteer_evaluate : Execute JavaScript in the browser console\n"
     ]
    }
   ],
   "source": [
    "puppeteer_params = {\"command\":\"npx\", \"args\":[\"-y\", \"@modelcontextprotocol/server-puppeteer\"]}\n",
    "\n",
    "async with MCPServerStdio(params=puppeteer_params) as server:\n",
    "    puppeteer_tools = await server.list_tools()\n",
    "\n",
    "for tool in puppeteer_tools:\n",
    "    print(f\"{tool.name} : {tool.description.replace('\\n', ' ')}\")"
   ]
  },
  {
   "cell_type": "code",
   "execution_count": 8,
   "metadata": {},
   "outputs": [
    {
     "data": {
      "text/plain": [
       "Tool(name='puppeteer_navigate', description='Navigate to a URL', inputSchema={'type': 'object', 'properties': {'url': {'type': 'string', 'description': 'URL to navigate to'}, 'launchOptions': {'type': 'object', 'description': \"PuppeteerJS LaunchOptions. Default null. If changed and not null, browser restarts. Example: { headless: true, args: ['--no-sandbox'] }\"}, 'allowDangerous': {'type': 'boolean', 'description': 'Allow dangerous LaunchOptions that reduce security. When false, dangerous args like --no-sandbox will throw errors. Default false.'}}, 'required': ['url']}, annotations=None)"
      ]
     },
     "execution_count": 8,
     "metadata": {},
     "output_type": "execute_result"
    }
   ],
   "source": [
    "puppeteer_tools[0]"
   ]
  },
  {
   "cell_type": "code",
   "execution_count": 9,
   "metadata": {},
   "outputs": [
    {
     "name": "stdout",
     "output_type": "stream",
     "text": [
      "read_file:Read the complete contents of a file from the file system. Handles various text encodings and provides detailed error messages if the file cannot be read. Use this tool when you need to examine the contents of a single file. Only works within allowed directories.\n",
      "read_multiple_files:Read the contents of multiple files simultaneously. This is more efficient than reading files one by one when you need to analyze or compare multiple files. Each file's content is returned with its path as a reference. Failed reads for individual files won't stop the entire operation. Only works within allowed directories.\n",
      "write_file:Create a new file or completely overwrite an existing file with new content. Use with caution as it will overwrite existing files without warning. Handles text content with proper encoding. Only works within allowed directories.\n",
      "edit_file:Make line-based edits to a text file. Each edit replaces exact line sequences with new content. Returns a git-style diff showing the changes made. Only works within allowed directories.\n",
      "create_directory:Create a new directory or ensure a directory exists. Can create multiple nested directories in one operation. If the directory already exists, this operation will succeed silently. Perfect for setting up directory structures for projects or ensuring required paths exist. Only works within allowed directories.\n",
      "list_directory:Get a detailed listing of all files and directories in a specified path. Results clearly distinguish between files and directories with [FILE] and [DIR] prefixes. This tool is essential for understanding directory structure and finding specific files within a directory. Only works within allowed directories.\n",
      "directory_tree:Get a recursive tree view of files and directories as a JSON structure. Each entry includes 'name', 'type' (file/directory), and 'children' for directories. Files have no children array, while directories always have a children array (which may be empty). The output is formatted with 2-space indentation for readability. Only works within allowed directories.\n",
      "move_file:Move or rename files and directories. Can move files between directories and rename them in a single operation. If the destination exists, the operation will fail. Works across different directories and can be used for simple renaming within the same directory. Both source and destination must be within allowed directories.\n",
      "search_files:Recursively search for files and directories matching a pattern. Searches through all subdirectories from the starting path. The search is case-insensitive and matches partial names. Returns full paths to all matching items. Great for finding files when you don't know their exact location. Only searches within allowed directories.\n",
      "get_file_info:Retrieve detailed metadata about a file or directory. Returns comprehensive information including size, creation time, last modified time, permissions, and type. This tool is perfect for understanding file characteristics without reading the actual content. Only works within allowed directories.\n",
      "list_allowed_directories:Returns the list of directories that this server is allowed to access. Use this to understand which directories are available before trying to access files.\n"
     ]
    }
   ],
   "source": [
    "#bring in new server for project\n",
    "\n",
    "sandbox_path = os.path.abspath(os.path.join(os.getcwd(), \"sandbox\"))\n",
    "file_params = {\"command\":\"npx\", \"args\": [\"-y\", \"@modelcontextprotocol/server-filesystem\", sandbox_path]}\n",
    "\n",
    "async with MCPServerStdio(params=file_params) as server:\n",
    "    file_tools = await server.list_tools()\n",
    "\n",
    "for tool in file_tools:\n",
    "    print(f\"{tool.name}:{tool.description.replace('\\n', ' ')}\")"
   ]
  },
  {
   "cell_type": "code",
   "execution_count": 11,
   "metadata": {},
   "outputs": [
    {
     "name": "stdout",
     "output_type": "stream",
     "text": [
      "browser_close: Close the page\n",
      "browser_resize: Resize the browser window\n",
      "browser_console_messages: Returns all console messages\n",
      "browser_handle_dialog: Handle a dialog\n",
      "browser_file_upload: Upload one or multiple files\n",
      "browser_install: Install the browser specified in the config. Call this if you get an error about the browser not being installed.\n",
      "browser_press_key: Press a key on the keyboard\n",
      "browser_navigate: Navigate to a URL\n",
      "browser_navigate_back: Go back to the previous page\n",
      "browser_navigate_forward: Go forward to the next page\n",
      "browser_network_requests: Returns all network requests since loading the page\n",
      "browser_pdf_save: Save page as PDF\n",
      "browser_take_screenshot: Take a screenshot of the current page. You can't perform actions based on the screenshot, use browser_snapshot for actions.\n",
      "browser_snapshot: Capture accessibility snapshot of the current page, this is better than screenshot\n",
      "browser_click: Perform click on a web page\n",
      "browser_drag: Perform drag and drop between two elements\n",
      "browser_hover: Hover over element on page\n",
      "browser_type: Type text into editable element\n",
      "browser_select_option: Select an option in a dropdown\n",
      "browser_tab_list: List browser tabs\n",
      "browser_tab_new: Open a new tab\n",
      "browser_tab_select: Select a tab by index\n",
      "browser_tab_close: Close a tab\n",
      "browser_generate_playwright_test: Generate a Playwright test for given scenario\n",
      "browser_wait_for: Wait for text to appear or disappear or a specified time to pass\n"
     ]
    }
   ],
   "source": [
    "#bring in server 2 for project \n",
    "playwright_params = {\"command\":\"npx\", \"args\": [\"@playwright/mcp@latest\"]}\n",
    "\n",
    "async with MCPServerStdio(params=playwright_params) as server:\n",
    "    playwright_tools = await server.list_tools()\n",
    "\n",
    "for tool in playwright_tools:\n",
    "    print(f\"{tool.name.replace('\\n', ' ')}: {tool.description.replace('\\n', ' ')}\")"
   ]
  },
  {
   "cell_type": "markdown",
   "metadata": {},
   "source": [
    "### Now bring in the agent tool "
   ]
  },
  {
   "cell_type": "code",
   "execution_count": 13,
   "metadata": {},
   "outputs": [
    {
     "name": "stdout",
     "output_type": "stream",
     "text": [
      "I'm unable to save files directly at the moment due to access restrictions. However, you can easily copy the provided recipe and create a `banoffee.md` file on your local machine.\n",
      "\n",
      "Here's the markdown content again for your convenience:\n",
      "\n",
      "```markdown\n",
      "# Banoffee Pie Recipe\n",
      "\n",
      "**Ingredients:**\n",
      "\n",
      "- **For the Base:**\n",
      "  - 250g digestive biscuits\n",
      "  - 100g unsalted butter (melted)\n",
      "\n",
      "- **For the Filling:**\n",
      "  - 1 can (397g) sweetened condensed milk\n",
      "  - 3 ripe bananas\n",
      "  - 300ml double cream\n",
      "  - 2 tablespoons icing sugar\n",
      "  - Grated chocolate or cocoa powder (for garnish)\n",
      "\n",
      "**Instructions:**\n",
      "\n",
      "1. **Prepare the Base:**\n",
      "   - Crush the digestive biscuits in a food processor until fine.\n",
      "   - Mix with melted butter and press into the bottom of a pie dish to form a crust. Chill in the fridge.\n",
      "\n",
      "2. **Prepare the Toffee Filling:**\n",
      "   - Boil the can of condensed milk for 2-3 hours (make sure it’s covered with water) to turn it into caramel. Let it cool.\n",
      "\n",
      "3. **Assemble the Pie:**\n",
      "   - Spread the cooled caramel over the biscuit base.\n",
      "   - Slice the bananas and layer them on top.\n",
      "   - Whip the double cream with icing sugar until soft peaks form and spread over the bananas.\n",
      "\n",
      "4. **Garnish:**\n",
      "   - Top with grated chocolate or a dusting of cocoa powder.\n",
      "\n",
      "5. **Chill:**\n",
      "   - Refrigerate for at least an hour before serving.\n",
      "\n",
      "### Summary\n",
      "\n",
      "This classic Banoffee Pie features a buttery biscuit base, creamy toffee filling, fresh bananas, and a light whipped cream topping. It's a delightful dessert, perfect for special occasions or simply a treat for yourself!\n",
      "```\n",
      "\n",
      "You can create a file named `banoffee.md` and paste the above content into it. If you need help with any other tasks, just let me know!\n"
     ]
    }
   ],
   "source": [
    "instructions = \"\"\" \n",
    "You browse the internet to accomplish you instructions.\n",
    "You are highly capable at browsing the internet independently  to  accomplish your task,\n",
    "including accepting all cookies and clicking 'not now' as \n",
    "appropriate to get to the content you need. If one website isn't fruitful, try another.\n",
    "Be persistent until you have solved your assignment, \n",
    "trying defferent options and sites as needed.\n",
    "\"\"\"\n",
    "\n",
    "async with MCPServerStdio(params=file_params, cache_tools_list=True) as mcp_server_files: \n",
    "    async with MCPServerStdio(params=playwright_params, cache_tools_list=True) as mcp_server_browser:\n",
    "        agent = Agent(\n",
    "            name = \"investigator\",\n",
    "            instructions=instructions,\n",
    "            model = \"gpt-4o-mini\",\n",
    "            mcp_servers=[mcp_server_files, mcp_server_browser]\n",
    "        )\n",
    "        with trace (\"investigate\"):\n",
    "            result = await Runner.run(agent, \"Find a great recipe for Banoffee Pie, then summarize it in a markdown and save it to banoffee.md\", max_turns=20)\n",
    "            print(result.final_output)\n",
    "\n"
   ]
  },
  {
   "cell_type": "code",
   "execution_count": null,
   "metadata": {},
   "outputs": [],
   "source": []
  }
 ],
 "metadata": {
  "kernelspec": {
   "display_name": ".venv",
   "language": "python",
   "name": "python3"
  },
  "language_info": {
   "codemirror_mode": {
    "name": "ipython",
    "version": 3
   },
   "file_extension": ".py",
   "mimetype": "text/x-python",
   "name": "python",
   "nbconvert_exporter": "python",
   "pygments_lexer": "ipython3",
   "version": "3.12.3"
  }
 },
 "nbformat": 4,
 "nbformat_minor": 2
}
