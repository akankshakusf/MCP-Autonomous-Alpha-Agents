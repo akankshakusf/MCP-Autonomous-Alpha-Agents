{
 "cells": [
  {
   "cell_type": "code",
   "execution_count": 1,
   "metadata": {},
   "outputs": [
    {
     "data": {
      "text/plain": [
       "True"
      ]
     },
     "execution_count": 1,
     "metadata": {},
     "output_type": "execute_result"
    }
   ],
   "source": [
    "#import packages\n",
    "import os \n",
    "from dotenv import load_dotenv\n",
    "from alpha_client import get_stock_tools_openai\n",
    "from agents import Agent, Runner , trace, Tool\n",
    "from agents.mcp import MCPServerStdio\n",
    "from datetime import datetime\n",
    "from IPython.display import display, Markdown\n",
    "from accounts_client import read_accounts_resource, read_strategy_resource\n",
    "from accounts import Account\n",
    "\n",
    "load_dotenv(override= True)"
   ]
  },
  {
   "cell_type": "code",
   "execution_count": 2,
   "metadata": {},
   "outputs": [
    {
     "name": "stdout",
     "output_type": "stream",
     "text": [
      "False\n",
      "False\n"
     ]
    }
   ],
   "source": [
    "polygon_api_key = os.getenv(\"POLYGON_API_KEY\")\n",
    "\n",
    "# free API key, no need to check for plan type\n",
    "is_paid_polygon = False\n",
    "is_realtime_polygon = False\n",
    "\n",
    "print(is_paid_polygon)\n",
    "print(is_realtime_polygon)\n"
   ]
  },
  {
   "cell_type": "code",
   "execution_count": 4,
   "metadata": {},
   "outputs": [],
   "source": [
    "polygon_api_key = os.getenv(\"POLYGON_API_KEY\")\n",
    "\n",
    "# Always assume free plan\n",
    "market_mcp = {\"command\": \"uv\",\"args\": [\"run\", \"market_server.py\"]}\n",
    "\n",
    "trader_mcp_server_params = [\n",
    "    {\"command\": \"uv\", \"args\": [\"run\", \"accounts_server.py\"]},\n",
    "    {\"command\": \"uv\", \"args\": [\"run\", \"push_server.py\"]},\n",
    "    market_mcp\n",
    "]"
   ]
  },
  {
   "cell_type": "code",
   "execution_count": 6,
   "metadata": {},
   "outputs": [],
   "source": [
    "brave_env = {\"BRAVE_API_KEY\": os.getenv(\"BRAVE_API_KEY\")}\n",
    "\n",
    "researcher_mcp_server_params = [\n",
    "    {\"command\": \"uvx\", \"args\": [\"mcp-server-fetch\"]},\n",
    "    {\"command\": \"npx\", \"args\": [\"-y\", \"@modelcontextprotocol/server-brave-search\"], \"env\": brave_env}\n",
    "]"
   ]
  },
  {
   "cell_type": "code",
   "execution_count": 7,
   "metadata": {},
   "outputs": [],
   "source": [
    "researcher_mcp_servers = [MCPServerStdio(params, cache_tools_list=True) for params in researcher_mcp_server_params]\n",
    "trader_mcp_servers = [MCPServerStdio(params, cache_tools_list=True) for params in trader_mcp_server_params ]\n",
    "mcp_servers = trader_mcp_servers + researcher_mcp_servers\n"
   ]
  },
  {
   "cell_type": "markdown",
   "metadata": {},
   "source": [
    "### Now let's make a Researcher Agent to do market research\n",
    "\n",
    "And turn it into a tool - "
   ]
  },
  {
   "cell_type": "code",
   "execution_count": 8,
   "metadata": {},
   "outputs": [],
   "source": [
    "async def get_researcher(mcp_servers) -> Agent:\n",
    "    instructions = f\"\"\"You are a financial researcher. You are able to search the web for interesting financial news,\n",
    "look for possible trading opportunities, and help with research.\n",
    "Based on the request, you carry out necessary research and respond with your findings.\n",
    "Take time to make multiple searches to get a comprehensive overview, and then summarize your findings.\n",
    "If there isn't a specific request, then just respond with investment opportunities based on searching latest news.\n",
    "The current datetime is {datetime.now().strftime(\"%Y-%m-%d %H:%M:%S\")}\n",
    "\"\"\"\n",
    "    researcher = Agent(\n",
    "        name=\"Researcher\",\n",
    "        instructions=instructions,\n",
    "        model=\"gpt-4o-mini\",\n",
    "        mcp_servers=mcp_servers,\n",
    "    )\n",
    "    return researcher"
   ]
  },
  {
   "cell_type": "code",
   "execution_count": 9,
   "metadata": {},
   "outputs": [],
   "source": [
    "#convert this agent to tool \n",
    "async def get_reseacher_tool(mcp_servers) -> Tool:\n",
    "    researcher = await get_researcher(mcp_servers)\n",
    "    return researcher.as_tool(\n",
    "        tool_name = \"Researcher\",\n",
    "        tool_description =  \"This tool researches online for news and opportunities,\\\n",
    "            either based on specific requests to look into a certain stock,\\\n",
    "            or generally for notable financial news and opportunities.\\\n",
    "            Describe what kind of research you're looking for.\"\n",
    "    )"
   ]
  },
  {
   "cell_type": "code",
   "execution_count": 19,
   "metadata": {},
   "outputs": [
    {
     "data": {
      "text/markdown": [
       "Here are some of the latest news highlights regarding Amazon:\n",
       "\n",
       "1. **New Partnership with The New York Times**: Amazon has formed a licensing agreement with The New York Times. This deal includes the use of the newspaper's editorial content on Amazon's platforms, which could enhance its content offerings.\n",
       "\n",
       "2. **Shareholder Results Overview**: Recent reports indicate a continued drop in shareholder support regarding Amazon's environmental initiatives. This may affect how the company promotes its sustainability efforts moving forward.\n",
       "\n",
       "3. **Unfounded Rumors**: There have been rumors circulating about Amazon potentially leaving the U.S. market. However, these claims have been fact-checked and deemed false by reputable sources.\n",
       "\n",
       "4. **Stock Updates**: Amazon's stock continues to be closely monitored. Investors can find the latest quotes and financial information through platforms like Yahoo Finance and CNBC.\n",
       "\n",
       "5. **Company Principles**: Amazon emphasizes its core principles of customer obsession, innovation, operational excellence, and long-term thinking in its communications and public relations.\n",
       "\n",
       "For a deeper dive into these topics, you can visit [GeekWire](https://www.geekwire.com/amazon/) for more industry-specific news, or [Yahoo Finance](https://finance.yahoo.com/quote/AMZN/) for stock-related updates."
      ],
      "text/plain": [
       "<IPython.core.display.Markdown object>"
      ]
     },
     "metadata": {},
     "output_type": "display_data"
    }
   ],
   "source": [
    "#dry run of researcher tool \n",
    "research_question = \"What is latest news on Amazon?\"\n",
    "\n",
    "for server in researcher_mcp_servers:\n",
    "    await server.connect()\n",
    "researcher = await get_researcher(researcher_mcp_servers)\n",
    "with trace(\"Researcher\"):\n",
    "    result = await Runner.run(researcher, research_question)\n",
    "display(Markdown(result.final_output))\n"
   ]
  },
  {
   "cell_type": "code",
   "execution_count": 10,
   "metadata": {},
   "outputs": [
    {
     "data": {
      "text/markdown": [
       "{\"name\": \"ellen\", \"balance\": 10000.0, \"strategy\": \" You are a day trader that aggressively buys and sells shares based on news and market conditions.\", \"holdings\": {}, \"transactions\": [], \"portfolio_value_time_series\": [[\"2025-06-12 09:08:18\", 10000.0]], \"total_portfolio_value\": 10000.0, \"total_profit_loss\": 0.0}"
      ],
      "text/plain": [
       "<IPython.core.display.Markdown object>"
      ]
     },
     "metadata": {},
     "output_type": "display_data"
    },
    {
     "data": {
      "text/markdown": [
       " You are a day trader that aggressively buys and sells shares based on news and market conditions."
      ],
      "text/plain": [
       "<IPython.core.display.Markdown object>"
      ]
     },
     "metadata": {},
     "output_type": "display_data"
    }
   ],
   "source": [
    "ellen_initial_strategy = \" You are a day trader that aggressively buys and sells shares based on news and market conditions.\"\n",
    "Account.get(\"Ellen\").reset(ellen_initial_strategy)\n",
    "\n",
    "display(Markdown(await read_accounts_resource(\"Ellen\")))\n",
    "display(Markdown(await read_strategy_resource(\"Ellen\")))"
   ]
  },
  {
   "cell_type": "markdown",
   "metadata": {},
   "source": [
    "### And now - to create our Trader Agent"
   ]
  },
  {
   "cell_type": "code",
   "execution_count": 11,
   "metadata": {},
   "outputs": [],
   "source": [
    "agent_name = \"Ellen\"\n",
    "\n",
    "#using MCP server to read resources\n",
    "account_details = await read_accounts_resource(agent_name)\n",
    "strategy = await read_strategy_resource(agent_name)\n",
    "\n",
    "instructions = f\"\"\" \n",
    "You are a trader that manages a portfolio of shares. Your name is {agent_name} and you account is under the name, {agent_name}.\n",
    "You have access to tools that allow you to search the internet for company news, check stock prices, buy and sell shares.\n",
    "Your investment strategy for you portfolio is:\n",
    "{strategy}\n",
    "Your current holdings and balance is:\n",
    "{account_details}\n",
    "You have the tools to preform a websearch for relevant news and information.\n",
    "You have tools to check stock prices.\n",
    "You have tools to buy and sell shares.\n",
    "You have tools to save memory of companies, research and thinking so far.\n",
    "Please make use of these tools to manage you portfolio. Carry out trades as you see fit; do not wait for instructions or ask for confirmation.\n",
    "\"\"\"\n",
    "\n",
    "prompt = \"\"\" \n",
    "Use your tools to make decision about your portfolio.\n",
    "Investigate the news and the market, make your decision, make the trades and respond with a summary of you actions.\n",
    "\"\"\""
   ]
  },
  {
   "cell_type": "code",
   "execution_count": 12,
   "metadata": {},
   "outputs": [
    {
     "data": {
      "text/markdown": [
       " \n",
       "You are a trader that manages a portfolio of shares. Your name is Ellen and you account is under the name, Ellen.\n",
       "You have access to tools that allow you to search the internet for company news, check stock prices, buy and sell shares.\n",
       "Your investment strategy for you portfolio is:\n",
       " You are a day trader that aggressively buys and sells shares based on news and market conditions.\n",
       "Your current holdings and balance is:\n",
       "{\"name\": \"ellen\", \"balance\": 10000.0, \"strategy\": \" You are a day trader that aggressively buys and sells shares based on news and market conditions.\", \"holdings\": {}, \"transactions\": [], \"portfolio_value_time_series\": [[\"2025-06-12 09:08:18\", 10000.0], [\"2025-06-12 09:08:47\", 10000.0]], \"total_portfolio_value\": 10000.0, \"total_profit_loss\": 0.0}\n",
       "You have the tools to preform a websearch for relevant news and information.\n",
       "You have tools to check stock prices.\n",
       "You have tools to buy and sell shares.\n",
       "You have tools to save memory of companies, research and thinking so far.\n",
       "Please make use of these tools to manage you portfolio. Carry out trades as you see fit; do not wait for instructions or ask for confirmation.\n"
      ],
      "text/plain": [
       "<IPython.core.display.Markdown object>"
      ]
     },
     "metadata": {},
     "output_type": "display_data"
    }
   ],
   "source": [
    "display(Markdown(instructions))"
   ]
  },
  {
   "cell_type": "markdown",
   "metadata": {},
   "source": [
    "## finally run the trader "
   ]
  },
  {
   "cell_type": "code",
   "execution_count": 13,
   "metadata": {},
   "outputs": [
    {
     "data": {
      "text/markdown": [
       "### Summary of Actions\n",
       "\n",
       "1. **Research Findings**:\n",
       "   - The market sentiment is cautiously optimistic, with positive movements in tech stocks like Tesla and Intel, driven by good news and volatility.\n",
       "   - Stocks are suitable for day trading due to their current performance and liquidity.\n",
       "\n",
       "2. **Stock Prices**:\n",
       "   - Tesla (TSLA): $326.43\n",
       "   - Intel (INTC): $20.68\n",
       "\n",
       "3. **Trades Executed**:\n",
       "   - **Bought 20 shares of Tesla (TSLA)** at $327.08 each.\n",
       "     - **Rationale**: Capitalizing on recent positive momentum and high trading volume suitable for quick gains.\n",
       "   - **Bought 50 shares of Intel (INTC)** at $20.72 each.\n",
       "     - **Rationale**: Targeting its strong performance and volatility for day trading.\n",
       "\n",
       "4. **Portfolio Update**:\n",
       "   - **Current Balance**: $2,422.27\n",
       "   - **Holdings**:\n",
       "     - Tesla (TSLA): 20 shares\n",
       "     - Intel (INTC): 50 shares\n",
       "   - **Total Portfolio Value**: $9,984.87\n",
       "   - **Total Profit/Loss**: -$15.13 (value fluctuation)\n",
       "\n",
       "### Next Steps\n",
       "- Continue monitoring the market for further trading opportunities.\n",
       "- Watch for any significant news or changes in stock performance, particularly in tech. Consider selling shares based on performance goals or new developments."
      ],
      "text/plain": [
       "<IPython.core.display.Markdown object>"
      ]
     },
     "metadata": {},
     "output_type": "display_data"
    }
   ],
   "source": [
    "for server in mcp_servers:\n",
    "    await server.connect()\n",
    "\n",
    "researcher_tools = await get_reseacher_tool(researcher_mcp_servers)\n",
    "trader = Agent(\n",
    "    name = agent_name,\n",
    "    instructions=instructions,\n",
    "    tools = [researcher_tools],\n",
    "    mcp_servers= trader_mcp_servers,\n",
    "    model=\"gpt-4o-mini\",\n",
    ")\n",
    "with trace(agent_name):\n",
    "    result= await Runner.run(trader, prompt)\n",
    "display(Markdown(result.final_output))\n"
   ]
  },
  {
   "cell_type": "markdown",
   "metadata": {},
   "source": [
    "### Then go and look at the trace\n",
    "\n",
    "http://platform.openai.com/traces"
   ]
  },
  {
   "cell_type": "code",
   "execution_count": 14,
   "metadata": {},
   "outputs": [
    {
     "data": {
      "text/plain": [
       "'{\"name\": \"ellen\", \"balance\": 2422.2748, \"strategy\": \" You are a day trader that aggressively buys and sells shares based on news and market conditions.\", \"holdings\": {\"TSLA\": 20, \"INTC\": 50}, \"transactions\": [{\"symbol\": \"TSLA\", \"quantity\": 20, \"price\": 327.08286, \"timestamp\": \"2025-06-12 09:09:40\", \"rationale\": \"Taking advantage of recent positive momentum and high volatility for day trading.\"}, {\"symbol\": \"INTC\", \"quantity\": 50, \"price\": 20.72136, \"timestamp\": \"2025-06-12 09:09:40\", \"rationale\": \"Intel\\'s strong performance and volatility make it a suitable stock for quick trades.\"}], \"portfolio_value_time_series\": [[\"2025-06-12 09:08:18\", 10000.0], [\"2025-06-12 09:08:47\", 10000.0], [\"2025-06-12 09:09:40\", 9986.9428], [\"2025-06-12 09:09:40\", 9984.874800000001], [\"2025-06-12 09:10:55\", 9984.874800000001]], \"total_portfolio_value\": 9984.874800000001, \"total_profit_loss\": -15.125199999998586}'"
      ]
     },
     "execution_count": 14,
     "metadata": {},
     "output_type": "execute_result"
    }
   ],
   "source": [
    "#look at the result for trading \n",
    "await read_accounts_resource(agent_name)"
   ]
  },
  {
   "cell_type": "code",
   "execution_count": 15,
   "metadata": {},
   "outputs": [],
   "source": [
    "from traders import Trader"
   ]
  },
  {
   "cell_type": "code",
   "execution_count": 16,
   "metadata": {},
   "outputs": [],
   "source": [
    "trader = Trader(\"Ellen\")"
   ]
  },
  {
   "cell_type": "code",
   "execution_count": 17,
   "metadata": {},
   "outputs": [
    {
     "name": "stderr",
     "output_type": "stream",
     "text": [
      "Error invoking MCP tool fetch: Timed out while waiting for response to ClientRequest. Waited 5.0 seconds.\n",
      "Error invoking MCP tool fetch: Timed out while waiting for response to ClientRequest. Waited 5.0 seconds.\n",
      "Error invoking MCP tool fetch: Timed out while waiting for response to ClientRequest. Waited 5.0 seconds.\n",
      "Error invoking MCP tool fetch: Timed out while waiting for response to ClientRequest. Waited 5.0 seconds.\n",
      "Error invoking MCP tool fetch: Timed out while waiting for response to ClientRequest. Waited 5.0 seconds.\n",
      "Error invoking MCP tool fetch: Timed out while waiting for response to ClientRequest. Waited 5.0 seconds.\n",
      "Error invoking MCP tool fetch: Timed out while waiting for response to ClientRequest. Waited 5.0 seconds.\n",
      "Error invoking MCP tool fetch: Timed out while waiting for response to ClientRequest. Waited 5.0 seconds.\n",
      "Error invoking MCP tool fetch: Timed out while waiting for response to ClientRequest. Waited 5.0 seconds.\n",
      "Errored MCP tool result: meta=None content=[] isError=False\n"
     ]
    },
    {
     "name": "stderr",
     "output_type": "stream",
     "text": [
      "[non-fatal] Tracing client error 400: {\n",
      "  \"error\": {\n",
      "    \"message\": \"Invalid type for 'data[0].span_data.result': expected an array of strings, but got null instead.\",\n",
      "    \"type\": \"invalid_request_error\",\n",
      "    \"param\": \"data[0].span_data.result\",\n",
      "    \"code\": \"invalid_type\"\n",
      "  }\n",
      "}\n"
     ]
    }
   ],
   "source": [
    "result = await trader.run()"
   ]
  },
  {
   "cell_type": "code",
   "execution_count": 18,
   "metadata": {},
   "outputs": [
    {
     "data": {
      "text/plain": [
       "'{\"name\": \"ellen\", \"balance\": 127.69370000000004, \"strategy\": \" You are a day trader that aggressively buys and sells shares based on news and market conditions.\", \"holdings\": {\"TSLA\": 20, \"INTC\": 30, \"AAPL\": 10, \"NVDA\": 5}, \"transactions\": [{\"symbol\": \"TSLA\", \"quantity\": 20, \"price\": 327.08286, \"timestamp\": \"2025-06-12 09:09:40\", \"rationale\": \"Taking advantage of recent positive momentum and high volatility for day trading.\"}, {\"symbol\": \"INTC\", \"quantity\": 50, \"price\": 20.72136, \"timestamp\": \"2025-06-12 09:09:40\", \"rationale\": \"Intel\\'s strong performance and volatility make it a suitable stock for quick trades.\"}, {\"symbol\": \"AAPL\", \"quantity\": 10, \"price\": 199.17756, \"timestamp\": \"2025-06-12 09:11:39\", \"rationale\": \"AAPL shows strong momentum and volatility for day trading.\"}, {\"symbol\": \"INTC\", \"quantity\": -20, \"price\": 20.63864, \"timestamp\": \"2025-06-12 09:11:41\", \"rationale\": \"Selling partial holdings in INTC to free up cash for new opportunities.\"}, {\"symbol\": \"NVDA\", \"quantity\": 5, \"price\": 143.11566000000002, \"timestamp\": \"2025-06-12 09:11:46\", \"rationale\": \"NVDA has positive market sentiment and is likely to provide quick trading opportunities.\"}], \"portfolio_value_time_series\": [[\"2025-06-12 09:08:18\", 10000.0], [\"2025-06-12 09:08:47\", 10000.0], [\"2025-06-12 09:09:40\", 9986.9428], [\"2025-06-12 09:09:40\", 9984.874800000001], [\"2025-06-12 09:10:55\", 9984.874800000001], [\"2025-06-12 09:11:08\", 9984.874800000001], [\"2025-06-12 09:11:39\", 9980.8992], [\"2025-06-12 09:11:41\", 9980.072], [\"2025-06-12 09:11:46\", 9978.643699999999], [\"2025-06-12 09:16:02\", 9978.643699999999]], \"total_portfolio_value\": 9978.643699999999, \"total_profit_loss\": -21.35630000000151}'"
      ]
     },
     "execution_count": 18,
     "metadata": {},
     "output_type": "execute_result"
    }
   ],
   "source": [
    "await read_accounts_resource(\"Ellen\")"
   ]
  },
  {
   "cell_type": "code",
   "execution_count": 19,
   "metadata": {},
   "outputs": [
    {
     "data": {
      "text/plain": [
       "<IPython.core.display.Markdown object>"
      ]
     },
     "metadata": {},
     "output_type": "display_data"
    }
   ],
   "source": [
    "display(Markdown(result))\n",
    "\n",
    "\n"
   ]
  },
  {
   "cell_type": "markdown",
   "metadata": {},
   "source": [
    "How many tools did we use in total?"
   ]
  },
  {
   "cell_type": "code",
   "execution_count": 22,
   "metadata": {},
   "outputs": [
    {
     "ename": "TypeError",
     "evalue": "'list' object is not callable",
     "output_type": "error",
     "traceback": [
      "\u001b[31m---------------------------------------------------------------------------\u001b[39m",
      "\u001b[31mTypeError\u001b[39m                                 Traceback (most recent call last)",
      "\u001b[36mCell\u001b[39m\u001b[36m \u001b[39m\u001b[32mIn[22]\u001b[39m\u001b[32m, line 3\u001b[39m\n\u001b[32m      1\u001b[39m \u001b[38;5;28;01mfrom\u001b[39;00m\u001b[38;5;250m \u001b[39m\u001b[34;01mmcp_params\u001b[39;00m\u001b[38;5;250m \u001b[39m\u001b[38;5;28;01mimport\u001b[39;00m trader_mcp_server_params, researcher_mcp_server_params\n\u001b[32m----> \u001b[39m\u001b[32m3\u001b[39m all_params = trader_mcp_server_params + \u001b[43mresearcher_mcp_server_params\u001b[49m\u001b[43m(\u001b[49m\u001b[33;43m\"\u001b[39;49m\u001b[33;43mEllen\u001b[39;49m\u001b[33;43m\"\u001b[39;49m\u001b[43m)\u001b[49m\n\u001b[32m      5\u001b[39m count = \u001b[32m0\u001b[39m\n\u001b[32m      6\u001b[39m \u001b[38;5;28;01mfor\u001b[39;00m each_params \u001b[38;5;129;01min\u001b[39;00m all_params:\n",
      "\u001b[31mTypeError\u001b[39m: 'list' object is not callable"
     ]
    }
   ],
   "source": [
    "from mcp_params import trader_mcp_server_params, researcher_mcp_server_params\n",
    "\n",
    "all_params = trader_mcp_server_params + researcher_mcp_server_params(\"Ellen\")\n",
    "\n",
    "count = 0\n",
    "for each_params in all_params:\n",
    "    async with MCPServerStdio(params=each_params, client_session_timeout_seconds=60) as server:\n",
    "        mcp_tools = await server.list_tools()\n",
    "        count += len(mcp_tools)\n",
    "print(f\"We have {len(all_params)} MCP servers, and {count} tools\")"
   ]
  },
  {
   "cell_type": "code",
   "execution_count": null,
   "metadata": {},
   "outputs": [],
   "source": []
  },
  {
   "cell_type": "code",
   "execution_count": null,
   "metadata": {},
   "outputs": [],
   "source": []
  },
  {
   "cell_type": "code",
   "execution_count": null,
   "metadata": {},
   "outputs": [],
   "source": []
  },
  {
   "cell_type": "code",
   "execution_count": null,
   "metadata": {},
   "outputs": [],
   "source": []
  }
 ],
 "metadata": {
  "kernelspec": {
   "display_name": ".venv",
   "language": "python",
   "name": "python3"
  },
  "language_info": {
   "codemirror_mode": {
    "name": "ipython",
    "version": 3
   },
   "file_extension": ".py",
   "mimetype": "text/x-python",
   "name": "python",
   "nbconvert_exporter": "python",
   "pygments_lexer": "ipython3",
   "version": "3.12.3"
  }
 },
 "nbformat": 4,
 "nbformat_minor": 2
}
